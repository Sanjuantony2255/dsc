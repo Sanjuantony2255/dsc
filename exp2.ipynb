{
 "cells": [
  {
   "cell_type": "code",
   "execution_count": 1,
   "id": "28be023a-7acf-44e4-81f3-4d500ff91e88",
   "metadata": {},
   "outputs": [
    {
     "name": "stdout",
     "output_type": "stream",
     "text": [
      "One dimensional array a =  [1 2 3]\n",
      "Two dimensional array b =  [[1 2 3]\n",
      " [4 5 6]]\n",
      "Size of the array:  (3,)\n",
      "Element at indices 0,1,2:  1 2 3\n",
      "Array after changing the element at index 0:  [5 2 3]\n",
      "An array of all zeros:  [[0. 0.]\n",
      " [0. 0.]]\n",
      "An array of all ones:  [[1. 1.]]\n",
      "A constant array:  [[7 7]\n",
      " [7 7]]\n",
      "A 2*2 identity matrix :  [[1. 0.]\n",
      " [0. 1.]]\n",
      "An array with random values:  [[0.16117147 0.73371363]\n",
      " [0.09931737 0.54970403]]\n"
     ]
    }
   ],
   "source": [
    "import numpy as np\n",
    "a = np.array([1, 2, 3]) # Create a rank 1 array\n",
    "print(\"One dimensional array a = \",a)\n",
    "b = np.array([[1,2,3],[4,5,6]])\n",
    "print(\"Two dimensional array b = \",b)\n",
    "print(\"Size of the array: \",a.shape)\n",
    "print(\"Element at indices 0,1,2: \",a[0], a[1], a[2])\n",
    "a[0] = 5 # Change an element of the array\n",
    "print(\"Array after changing the element at index 0: \",a)\n",
    "a = np.zeros((2,2)) # Create an array of all zeros\n",
    "print(\"An array of all zeros: \",a)\n",
    "b = np.ones((1,2)) # Create an array of all ones\n",
    "print(\"An array of all ones: \",b)\n",
    "c = np.full((2,2), 7) # Create a constant array\n",
    "print(\"A constant array: \",c)\n",
    "d = np.eye(2) # Create a 2x2 identity matrix\n",
    "print(\"A 2*2 identity matrix : \",d)\n",
    "e = np.random.random((2,2)) # Create an array filled with random values\n",
    "print(\"An array with random values: \",e)"
   ]
  },
  {
   "cell_type": "code",
   "execution_count": 2,
   "id": "8917bb19-bc7c-4be9-863f-86ec3eac7798",
   "metadata": {},
   "outputs": [
    {
     "name": "stdout",
     "output_type": "stream",
     "text": [
      "Array indexing: slicing\n",
      "al =  [[ 1  2  3  4]\n",
      " [ 5  6  7  8]\n",
      " [ 9 10 11 12]]\n",
      "Subarray consisting of first two rows and columns 1 and 2:  [[2 3]\n",
      " [6 7]]\n",
      "Subarray consists of second row:  [[5 6 7 8]]\n",
      "Accessing columns: \n",
      "[ 2  6 10] (3,)\n",
      "[[1 2 3 4]] (1, 4)\n",
      "Array integer indexing: \n",
      "a2 =  [[1 2]\n",
      " [3 4]\n",
      " [5 6]]\n",
      "Example of array integer indexing:  [1 4 5]\n",
      "a2[[0, 0], [1, 1]]D\n",
      "[2. 0.]\n",
      "a3 =  [[ 1  2  3]\n",
      " [ 4  5  6]\n",
      " [ 7  8  9]\n",
      " [10 11 12]]\n",
      "b =  [0 2 0 1]\n",
      "a3 [ 1  6  7 11]\n",
      "a3 =  [[11  2  3]\n",
      " [ 4  5 16]\n",
      " [17  8  9]\n",
      " [10 21 12]]\n",
      "Boolean array indexing: \n",
      "a =  [[1 2]\n",
      " [3 4]\n",
      " [5 6]]\n",
      "Elements greater than 2:  [3 4 5 6]\n"
     ]
    }
   ],
   "source": [
    "import numpy as np\n",
    "print(\"Array indexing: slicing\")\n",
    "al = np.array([[1,2,3,4], [5,6,7,8], [9,10,11,12]])\n",
    "print(\"al = \",al)\n",
    "b=al[:2, 1:3]\n",
    "print(\"Subarray consisting of first two rows and columns 1 and 2: \",b)\n",
    "b=al[1:2,:]\n",
    "print(\"Subarray consists of second row: \",b)\n",
    "print(\"Accessing columns: \")\n",
    "b=al[:,1]\n",
    "print(b,b.shape)\n",
    "c=al[:1:2]\n",
    "print(c,c.shape)\n",
    "print(\"Array integer indexing: \")\n",
    "a2 = np.array([[1,2], [3, 4], [5, 6]])\n",
    "print(\"a2 = \",a2)\n",
    "print(\"Example of array integer indexing: \",a2[[0, 1, 2], [0, 1, 0]])\n",
    "# When using integer array indexing, you can reuse the same element from the source #array\n",
    "print(\"a2[[0, 0], [1, 1]]D\")\n",
    "#Equivalent to the previous integer array indexing example\n",
    "print(np.array([a2[0, 1], a[0, 1]]))\n",
    "a3 = a = np.array([[1,2,3], [4,5,6], [7,8,9], [10, 11, 12]])\n",
    "print(\"a3 = \",a3)\n",
    "# Create an array of indices\n",
    "b = np.array([0, 2, 0, 1])\n",
    "print(\"b = \",b)\n",
    "# Select one element from each row of a using the indices in b\n",
    "print(\"a3\",a3[np.arange(4), b])\n",
    "# Mutate one element from each row of a using the indices in b\n",
    "a3 [np.arange(4), b]+= 10\n",
    "print(\"a3 = \",a3)\n",
    "print(\"Boolean array indexing: \")\n",
    "a = np.array([[1,2], [3, 4], [5, 6]])\n",
    "print(\"a = \",a)\n",
    "bool_idx= (a>2)\n",
    "print(\"Elements greater than 2: \",a[bool_idx])"
   ]
  },
  {
   "cell_type": "code",
   "execution_count": 3,
   "id": "e5b31778-aaf6-4813-acb6-f12e69536bef",
   "metadata": {},
   "outputs": [
    {
     "name": "stdout",
     "output_type": "stream",
     "text": [
      "x =  [[1. 2.]\n",
      " [3. 4.]]\n",
      "y= [[6. 9.]\n",
      " [4. 4.]]\n",
      "Element wise addition:  [[2. 4.]\n",
      " [6. 8.]]\n",
      "Element wise subtraction:  [[-5. -7.]\n",
      " [-1.  0.]]\n",
      "Element wise multiplication:  [[ 6. 18.]\n",
      " [12. 16.]]\n",
      "Element wise square root of x:  [[1.         1.41421356]\n",
      " [1.73205081 2.        ]]\n",
      "Matrix multiplication:  [[14. 17.]\n",
      " [34. 43.]]\n",
      "Sum of all elements of matrix x:  10.0\n",
      "Sum of elements in each column of matrix y:  [10. 13.]\n",
      "Sum of elements in each row of matrix y:  [15.  8.]\n",
      "Transpose of matrix x:  [[1. 3.]\n",
      " [2. 4.]]\n"
     ]
    }
   ],
   "source": [
    "import numpy as n\n",
    "x = np.array([[1,2], [3, 4]], dtype=np.float64)\n",
    "y = np.array([[6,9], [4, 4]], dtype=np.float64)\n",
    "print(\"x = \",x)\n",
    "print(\"y=\",y)\n",
    "print(\"Element wise addition: \",np.add(x, x))\n",
    "print(\"Element wise subtraction: \",np.subtract(x, y))\n",
    "print(\"Element wise multiplication: \",np.multiply(x, y))\n",
    "print(\"Element wise square root of x: \",np.sqrt(x))\n",
    "print(\"Matrix multiplication: \",np.dot(x, y))\n",
    "print(\"Sum of all elements of matrix x: \",np.sum(x))\n",
    "print(\"Sum of elements in each column of matrix y: \",np.sum(y,axis=0))\n",
    "print(\"Sum of elements in each row of matrix y: \",np.sum(y,axis=1)) \n",
    "print(\"Transpose of matrix x: \",x.T)"
   ]
  },
  {
   "cell_type": "code",
   "execution_count": 4,
   "id": "50bda106-fc7d-460c-94e0-3963cce95552",
   "metadata": {},
   "outputs": [
    {
     "name": "stdout",
     "output_type": "stream",
     "text": [
      "Example for broadcasting: \n",
      "v =  [1 2 3]\n",
      "w =  [4 5]\n",
      "Outer product of above vectors: \n",
      "[[ 4  5]\n",
      " [ 8 10]\n",
      " [12 15]]\n",
      "x =  [[1 2 3]\n",
      " [4 5 6]]\n",
      "Resultant matrix after adding the vector x to each row of matrix v: \n",
      "[[2 4 6]\n",
      " [5 7 9]]\n",
      "Example for broadcasting fails: \n",
      "Adding the vector x to each column of matrix w will generate an error\n",
      "Solution: Reshape the matrix w then the result will be: \n",
      "[[ 5  6  7]\n",
      " [ 9 10 11]]\n"
     ]
    }
   ],
   "source": [
    "import numpy as np\n",
    "print(\"Example for broadcasting: \")\n",
    "v=np.array([1,2,3])\n",
    "w=np.array([4,5])\n",
    "print(\"v = \",v)\n",
    "print(\"w = \",w)\n",
    "print(\"Outer product of above vectors: \")\n",
    "print(np.reshape(v,(3,1))*w)\n",
    "x=np.array([[1,2,3],[4,5,6]])\n",
    "print(\"x = \",x)\n",
    "print(\"Resultant matrix after adding the vector x to each row of matrix v: \")\n",
    "print(x+v)\n",
    "print(\"Example for broadcasting fails: \")\n",
    "print(\"Adding the vector x to each column of matrix w will generate an error\") \n",
    "print(\"Solution: Reshape the matrix w then the result will be: \")\n",
    "print(x+np.reshape(w, (2,1)))"
   ]
  },
  {
   "cell_type": "code",
   "execution_count": null,
   "id": "961dffac-075a-4204-8c74-85e446e5f59d",
   "metadata": {},
   "outputs": [],
   "source": []
  }
 ],
 "metadata": {
  "kernelspec": {
   "display_name": "Python 3 (ipykernel)",
   "language": "python",
   "name": "python3"
  },
  "language_info": {
   "codemirror_mode": {
    "name": "ipython",
    "version": 3
   },
   "file_extension": ".py",
   "mimetype": "text/x-python",
   "name": "python",
   "nbconvert_exporter": "python",
   "pygments_lexer": "ipython3",
   "version": "3.12.4"
  }
 },
 "nbformat": 4,
 "nbformat_minor": 5
}
