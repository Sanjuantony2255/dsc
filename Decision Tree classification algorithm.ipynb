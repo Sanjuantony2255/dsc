{
 "cells": [
  {
   "cell_type": "code",
   "execution_count": 9,
   "id": "bdde5146-33a2-4ca5-aa8c-e480ceddc563",
   "metadata": {},
   "outputs": [
    {
     "name": "stdout",
     "output_type": "stream",
     "text": [
      "classes to predict:  ['setosa' 'versicolor' 'virginica']\n",
      "Features:  ['sepal length (cm)', 'sepal width (cm)', 'petal length (cm)', 'petal width (cm)']\n"
     ]
    },
    {
     "data": {
      "text/plain": [
       "(150, 4)"
      ]
     },
     "metadata": {},
     "output_type": "display_data"
    },
    {
     "data": {
      "text/plain": [
       "(150,)"
      ]
     },
     "metadata": {},
     "output_type": "display_data"
    },
    {
     "name": "stdout",
     "output_type": "stream",
     "text": [
      "Accuracy on train data using Gini:  1.0\n",
      "Accuracy on test data using Gini:  0.9473684210526315\n",
      "Accuracy on train data using entropy 1.0\n",
      "Accuracy on test data using entropy 0.9473684210526315\n",
      "Accuracy on train data using entropy 0.9642857142857143\n",
      "Accuracy on test data using entropy 0.9473684210526315\n"
     ]
    }
   ],
   "source": [
    "import pandas as pd\n",
    "import numpy as np\n",
    "from sklearn.datasets import load_iris\n",
    "#load iris data\n",
    "data = load_iris()\n",
    "data.data.shape\n",
    "print('classes to predict: ',data.target_names)\n",
    "print('Features: ',data.feature_names)\n",
    "X = data.data\n",
    "y = data.target\n",
    "display (X.shape, y.shape)\n",
    "from sklearn.model_selection import train_test_split\n",
    "from sklearn.tree import DecisionTreeClassifier\n",
    "X_train, X_test, y_train, y_test = train_test_split(X, y,random_state = 50, test_size = 0.25)\n",
    "#default criterion is Gini\n",
    "classifier = DecisionTreeClassifier()\n",
    "classifier.fit(X_train, y_train)\n",
    "y_pred = classifier.predict(X_test)\n",
    "from sklearn.metrics import accuracy_score\n",
    "print('Accuracy on train data using Gini: ',accuracy_score (y_true = y_train, y_pred = classifier.predict(X_train)))\n",
    "print('Accuracy on test data using Gini: ',accuracy_score (y_true = y_test, y_pred = y_pred))\n",
    "#change criterion to entropy\n",
    "classifier_entropy = DecisionTreeClassifier(criterion='entropy')\n",
    "classifier_entropy.fit(X_train, y_train)\n",
    "y_pred_entropy = classifier_entropy.predict(X_test)\n",
    "print('Accuracy on train data using entropy', accuracy_score (y_true=y_train, y_pred = classifier_entropy.predict(X_train)))\n",
    "print('Accuracy on test data using entropy', accuracy_score(y_true=y_test, y_pred=y_pred_entropy))\n",
    "#change criterion to entropy with min_samples_split to 50. Default value is 2\n",
    "classifier_entropy1 = DecisionTreeClassifier (criterion='entropy', min_samples_split=50)\n",
    "classifier_entropy1.fit(X_train, y_train)\n",
    "y_pred_entropy1 = classifier_entropy1.predict(X_test)\n",
    "print('Accuracy on train data using entropy', accuracy_score (y_true=y_train, y_pred = classifier_entropy1.predict(X_train)))\n",
    "print('Accuracy on test data using entropy', accuracy_score (y_true=y_test, y_pred = y_pred_entropy1))\n",
    "#visualise the decision tree\n",
    "from sklearn.tree import export_graphviz\n",
    "from six import StringIO\n",
    "from IPython.display import Image\n",
    "import pydotplus\n",
    "dot_data = StringIO()\n",
    "#the students can try using classifier, classifier_entropy and classifier_entropy1 #as first parameter below.\n",
    "export_graphviz(classifier, out_file = dot_data, filled = True, rounded =\n",
    "True,special_characters = True, feature_names = data.feature_names, class_names = data.target_names)"
   ]
  },
  {
   "cell_type": "code",
   "execution_count": null,
   "id": "3f0e544d-8e82-49f7-ac1a-27f8b7ffc37f",
   "metadata": {},
   "outputs": [],
   "source": []
  }
 ],
 "metadata": {
  "kernelspec": {
   "display_name": "Python 3 (ipykernel)",
   "language": "python",
   "name": "python3"
  },
  "language_info": {
   "codemirror_mode": {
    "name": "ipython",
    "version": 3
   },
   "file_extension": ".py",
   "mimetype": "text/x-python",
   "name": "python",
   "nbconvert_exporter": "python",
   "pygments_lexer": "ipython3",
   "version": "3.12.4"
  }
 },
 "nbformat": 4,
 "nbformat_minor": 5
}
