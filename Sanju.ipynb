{
 "cells": [
  {
   "cell_type": "code",
   "execution_count": 6,
   "id": "6c8221ae-8f1f-4247-8f84-1ec39cb4b35f",
   "metadata": {},
   "outputs": [
    {
     "name": "stdout",
     "output_type": "stream",
     "text": [
      "hello world\n"
     ]
    }
   ],
   "source": [
    "print (\"hello world\")"
   ]
  },
  {
   "cell_type": "code",
   "execution_count": 7,
   "id": "2c6d6cec-4725-4c5c-8eeb-aba18468860b",
   "metadata": {},
   "outputs": [
    {
     "name": "stdout",
     "output_type": "stream",
     "text": [
      "Demo of base data type:Numbers\n",
      "x= 3\n",
      "y= 2.5\n",
      "Data type of variable x: <class 'int'>\n",
      "Data type of variable y: <class 'float'>\n",
      "Addition: 5.5\n",
      "Subtraction: 0.5\n",
      "Multiplication: 6\n",
      "Exponentiation: 9\n"
     ]
    }
   ],
   "source": [
    "print (\"Demo of base data type:Numbers\")\n",
    "x=3\n",
    "y=2.5\n",
    "print(\"x=\",x)\n",
    "print(\"y=\",y)\n",
    "print(\"Data type of variable x:\",type(x))\n",
    "print(\"Data type of variable y:\",type(y))\n",
    "print(\"Addition:\",x+y)\n",
    "print(\"Subtraction:\",x-y)\n",
    "print(\"Multiplication:\",x*2)\n",
    "print(\"Exponentiation:\",x**2)"
   ]
  },
  {
   "cell_type": "code",
   "execution_count": 8,
   "id": "9292b473-2931-446f-b0a9-eac9272aa256",
   "metadata": {},
   "outputs": [
    {
     "ename": "SyntaxError",
     "evalue": "invalid syntax (3961548137.py, line 1)",
     "output_type": "error",
     "traceback": [
      "\u001b[0;36m  Cell \u001b[0;32mIn[8], line 1\u001b[0;36m\u001b[0m\n\u001b[0;31m    Demo of basic data types: String\u001b[0m\n\u001b[0m         ^\u001b[0m\n\u001b[0;31mSyntaxError\u001b[0m\u001b[0;31m:\u001b[0m invalid syntax\n"
     ]
    }
   ],
   "source": [
    "Demo of basic data types: String\n",
    "string1: hello\n",
    "string2: world\n",
    "String concatenation: hello world\n",
    "Capitalize: Hello world\n",
    "Converted to upper case: HELLO\n",
    "Right justify a string:\n",
    "String at center: hello\n",
    "hello\n",
    "After replacing 1 with ell: he(ell) (ell)o\n",
    "String after striping leading and trailing whitespaces: world\n",
    "print(\"Containers:Lists\")\n",
    "nums = list(range(5))\n",
    "print(\"list 'nums' contains: \", nums)\n",
    "nums[4]=\"abc\"\n",
    "print(\"List can contain elements of different types. Example: \", nums) nums.append(\"xyz\")\n",
    "print(\"'nums' after inserting new element at the end: \")\n",
    "print(\"Sublists:\")\n",
    "print(\"A slice from index 2 to 4 : \",nums[2:4])\n",
    "print(\"A slice from index 2 to the end : \",nums[2:])\n",
    "print(\"A slice from the start to index 2 : \",nums[:2])\n",
    "print(\"A slice of the whole list : \",nums[:]) nums[4] = [8, 9] # Assign a new sublist to a slice print(\"After Assigning a new sublist to 'nums': \") for idx,i in enumerate(nums):\n",
    "print('%d: %s' % (idx + 1, i))\n",
    "even_squares = [x ** 2 for x in nums if x % 2 == 0]\n",
    "print(\"List of squares of even numbers from 'nums' : \",even_squares)"
   ]
  },
  {
   "cell_type": "code",
   "execution_count": 16,
   "id": "949c12c3-da8f-4af6-9fee-ba2ea6d7c613",
   "metadata": {},
   "outputs": [
    {
     "name": "stdout",
     "output_type": "stream",
     "text": [
      "Containers:Lists\n",
      "list 'nums' contains:  [0, 1, 2, 3, 4]\n",
      "List can contain elements of different types. Example:  [0, 1, 2, 3, 'abc']\n",
      "'nums' after inserting new element at the end: \n",
      "Sublists:\n",
      "A slice from index 2 to 4 :  [2, 3]\n",
      "A slice from index 2 to the end :  [2, 3, 'abc', 'xyz']\n",
      "A slice from the start to index 2 :  [0, 1]\n",
      "A slice of the whole list :  [0, 1, 2, 3, 'abc', 'xyz']\n",
      "After Assigning a new sublist to 'nums': \n",
      "1:0\n",
      "2:1\n",
      "3:2\n",
      "4:3\n",
      "5:8\n",
      "6:9\n",
      "List of squares of even numbers from 'nums' :  [0, 4, 64]\n"
     ]
    }
   ],
   "source": [
    "print(\"Containers:Lists\")\n",
    "nums = list(range(5))\n",
    "print(\"list 'nums' contains: \", nums)\n",
    "nums[4]=\"abc\"\n",
    "print(\"List can contain elements of different types. Example: \", nums) \n",
    "nums.append(\"xyz\")\n",
    "print(\"'nums' after inserting new element at the end: \")\n",
    "print(\"Sublists:\")\n",
    "print(\"A slice from index 2 to 4 : \",nums[2:4])\n",
    "print(\"A slice from index 2 to the end : \",nums[2:])\n",
    "print(\"A slice from the start to index 2 : \",nums[:2])\n",
    "print(\"A slice of the whole list : \",nums[:])\n",
    "nums[4:] = [8, 9]\n",
    "print(\"After Assigning a new sublist to 'nums': \")\n",
    "for idx,i in enumerate(nums):\n",
    "    print('%d:%s'%(idx + 1, i))\n",
    "even_squares = [x ** 2 for x in nums if x % 2 == 0]\n",
    "print(\"List of squares of even numbers from 'nums' : \",even_squares)"
   ]
  },
  {
   "cell_type": "code",
   "execution_count": 18,
   "id": "d9f56305-99f8-4c12-93d4-01d42cd416ea",
   "metadata": {},
   "outputs": [
    {
     "name": "stdout",
     "output_type": "stream",
     "text": [
      "Containers:Dictionaries\n",
      "Dictionary:  {'cat': 'cute', 'dog': 'furry'}\n",
      "Is the dictionary has the key 'cat' ?  True\n",
      "After adding new entry to 'd' :  {'cat': 'cute', 'dog': 'furry', 'fish': 'wet'}\n",
      "Get an element monkey :  N/A\n",
      "Get an element fish:  wet\n",
      "After deleting the newly added entry from 'd' :  {'cat': 'cute', 'dog': 'furry'}\n",
      "Demo of dictionary comprehension: \n",
      "Squares of integers of range 10: \n",
      "0 : 0\n",
      "1 : 1\n",
      "2 : 4\n",
      "3 : 9\n",
      "4 : 16\n",
      "5 : 25\n",
      "6 : 36\n",
      "7 : 49\n",
      "8 : 64\n",
      "9 : 81\n"
     ]
    }
   ],
   "source": [
    "print(\"Containers:Dictionaries\")\n",
    "d = dict()\n",
    "d = {'cat': 'cute', 'dog': 'furry'}\n",
    "print(\"Dictionary: \",d)\n",
    "print(\"Is the dictionary has the key 'cat' ? \", 'cat' in d) \n",
    "d['fish'] = 'wet'\n",
    "print(\"After adding new entry to 'd' : \",d)\n",
    "print(\"Get an element monkey : \",d.get('monkey', 'N/A')) \n",
    "print(\"Get an element fish: \",d.get('fish', 'N/A'))\n",
    "del d['fish']\n",
    "print(\"After deleting the newly added entry from 'd' : \",d) \n",
    "print(\"Demo of dictionary comprehension: \")\n",
    "squares={x:x*x for x in range(10)}\n",
    "print(\"Squares of integers of range 10: \") \n",
    "for k,v in squares.items():\n",
    "    print(k, \":\",v)"
   ]
  },
  {
   "cell_type": "code",
   "execution_count": 19,
   "id": "0ab1e37f-798d-4caa-a312-1a5c1f9ea5bc",
   "metadata": {},
   "outputs": [
    {
     "name": "stdout",
     "output_type": "stream",
     "text": [
      "Containers:Sets\n",
      "Set 'num1':  {120, 100, 110}\n",
      "num1' after inserting 90:  {120, 90, 100, 110}\n",
      "num1' after inserting multiple elements : {100, 70, 110, 50, 120, 90, 60}\n",
      "'num1' after removing 60:  {100, 70, 110, 50, 120, 90}\n",
      "Set comprehension and set operations: \n",
      "n1 =  {0, 1, 2, 3, 4, 5, 6, 7, 8, 9}\n",
      "n2 =  {1, 3, 5, 7, 9}\n",
      "n1 union n2 :  {0, 1, 2, 3, 4, 5, 6, 7, 8, 9}\n",
      "n1 intersection n2 :  {1, 3, 5, 7, 9}\n",
      "n1 difference n2 :  {0, 2, 4, 6, 8}\n"
     ]
    }
   ],
   "source": []
  },
  {
   "cell_type": "code",
   "execution_count": 21,
   "id": "c9303d46-b6cc-4915-b7bc-e141543b56cf",
   "metadata": {},
   "outputs": [
    {
     "name": "stdout",
     "output_type": "stream",
     "text": [
      "Containers:Tuples\n",
      "Dictionary with tuple keys: \n",
      "(0, 1) : 0\n",
      "(1, 2) : 1\n",
      "(2, 3) : 2\n",
      "(3, 4) : 3\n",
      "(4, 5) : 4\n",
      "(5, 6) : 5\n",
      "(6, 7) : 6\n",
      "(7, 8) : 7\n",
      "(8, 9) : 8\n",
      "(9, 10) : 9\n",
      "Tuple t :  (5, 6)\n",
      "5\n",
      "1\n"
     ]
    }
   ],
   "source": [
    "print(\"Containers:Tuples\")\n",
    "d = {(x, x + 1): x for x in range(10)} \n",
    "print(\"Dictionary with tuple keys: \") \n",
    "for k,v in d.items():\n",
    "    print(k, \":\",v)\n",
    "t=(5,6)\n",
    "print(\"Tuple t : \",t)\n",
    "print(d[t])\n",
    "print(d[1,2])"
   ]
  },
  {
   "cell_type": "code",
   "execution_count": 33,
   "id": "e4f1064d-95e3-44d7-9b57-b583a7e19c12",
   "metadata": {},
   "outputs": [
    {
     "ename": "NameError",
     "evalue": "name 'Greeter' is not defined",
     "output_type": "error",
     "traceback": [
      "\u001b[0;31m---------------------------------------------------------------------------\u001b[0m",
      "\u001b[0;31mNameError\u001b[0m                                 Traceback (most recent call last)",
      "Cell \u001b[0;32mIn[33], line 9\u001b[0m\n\u001b[1;32m      7\u001b[0m             \u001b[38;5;28;01melse\u001b[39;00m:\n\u001b[1;32m      8\u001b[0m                         \u001b[38;5;28mprint\u001b[39m(\u001b[38;5;124m'\u001b[39m\u001b[38;5;124mHello, \u001b[39m\u001b[38;5;132;01m%s\u001b[39;00m\u001b[38;5;124m'\u001b[39m \u001b[38;5;241m%\u001b[39m \u001b[38;5;28mself\u001b[39m\u001b[38;5;241m.\u001b[39mname)\n\u001b[0;32m----> 9\u001b[0m g\u001b[38;5;241m=\u001b[39mGreeter(\u001b[38;5;124m'\u001b[39m\u001b[38;5;124mFred\u001b[39m\u001b[38;5;124m'\u001b[39m)\n\u001b[1;32m     10\u001b[0m g\u001b[38;5;241m.\u001b[39mgreet()\n\u001b[1;32m     11\u001b[0m g\u001b[38;5;241m.\u001b[39mgreet(loud\u001b[38;5;241m=\u001b[39m\u001b[38;5;28;01mTrue\u001b[39;00m)\n",
      "\u001b[0;31mNameError\u001b[0m: name 'Greeter' is not defined"
     ]
    }
   ],
   "source": [
    "class Greeeter:\n",
    "    def __init__(self, name):\n",
    "            self.name=name\n",
    "    def greet(self, loud=False):\n",
    "            if loud:\n",
    "                        print('HELLO,%s!'% self.name.upper())\n",
    "            else:\n",
    "                        print('Hello, %s' % self.name)\n",
    "g=Greeter('Fred')\n",
    "g.greet()\n",
    "g.greet(loud=True)"
   ]
  },
  {
   "cell_type": "code",
   "execution_count": 35,
   "id": "5cee7ae7-1cfe-4e5f-b4de-b4f59bf08c93",
   "metadata": {},
   "outputs": [
    {
     "name": "stdout",
     "output_type": "stream",
     "text": [
      "Hello, Fred\n",
      "HELLO, FRED!\n"
     ]
    }
   ],
   "source": []
  },
  {
   "cell_type": "code",
   "execution_count": null,
   "id": "faa6fe4b-e19b-47db-9e67-6903e8166083",
   "metadata": {},
   "outputs": [],
   "source": []
  }
 ],
 "metadata": {
  "kernelspec": {
   "display_name": "Python 3 (ipykernel)",
   "language": "python",
   "name": "python3"
  },
  "language_info": {
   "codemirror_mode": {
    "name": "ipython",
    "version": 3
   },
   "file_extension": ".py",
   "mimetype": "text/x-python",
   "name": "python",
   "nbconvert_exporter": "python",
   "pygments_lexer": "ipython3",
   "version": "3.12.4"
  }
 },
 "nbformat": 4,
 "nbformat_minor": 5
}
